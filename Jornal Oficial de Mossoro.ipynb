{
 "cells": [
  {
   "cell_type": "markdown",
   "id": "6b886e81",
   "metadata": {},
   "source": [
    "A ideia desse material é de capturar as informações de todos os arquivos do site do [Jornal Oficial de Mossoró](http://jom.prefeiturademossoro.com.br)."
   ]
  },
  {
   "cell_type": "markdown",
   "id": "e3129cad",
   "metadata": {},
   "source": [
    "A versão do Python esperada é no mínimo a 3.8.\n",
    "\n",
    "As dependencias que precisaremos para fazer todo o trabalho são:\n",
    "- httpx: responsavel por lidar com as requisições\n",
    "- parse: nos permite fazer buscas a partir de padrões\n",
    "- pyquery: nos permite fazer buscar no estilo jquery"
   ]
  },
  {
   "cell_type": "code",
   "execution_count": 291,
   "id": "d88a49eb",
   "metadata": {},
   "outputs": [
    {
     "name": "stdout",
     "output_type": "stream",
     "text": [
      "Requirement already satisfied: httpx in /Users/exageraldo/.pyenv/versions/3.8.12/envs/analises-mossoro/lib/python3.8/site-packages (from -r requirements.txt (line 1)) (0.20.0)\n",
      "Requirement already satisfied: parse in /Users/exageraldo/.pyenv/versions/3.8.12/envs/analises-mossoro/lib/python3.8/site-packages (from -r requirements.txt (line 2)) (1.19.0)\n",
      "Requirement already satisfied: pyquery in /Users/exageraldo/.pyenv/versions/3.8.12/envs/analises-mossoro/lib/python3.8/site-packages (from -r requirements.txt (line 3)) (1.4.3)\n",
      "Requirement already satisfied: rfc3986[idna2008]<2,>=1.3 in /Users/exageraldo/.pyenv/versions/3.8.12/envs/analises-mossoro/lib/python3.8/site-packages (from httpx->-r requirements.txt (line 1)) (1.5.0)\n",
      "Requirement already satisfied: certifi in /Users/exageraldo/.pyenv/versions/3.8.12/envs/analises-mossoro/lib/python3.8/site-packages (from httpx->-r requirements.txt (line 1)) (2021.10.8)\n",
      "Requirement already satisfied: httpcore<0.14.0,>=0.13.3 in /Users/exageraldo/.pyenv/versions/3.8.12/envs/analises-mossoro/lib/python3.8/site-packages (from httpx->-r requirements.txt (line 1)) (0.13.7)\n",
      "Requirement already satisfied: charset-normalizer in /Users/exageraldo/.pyenv/versions/3.8.12/envs/analises-mossoro/lib/python3.8/site-packages (from httpx->-r requirements.txt (line 1)) (2.0.7)\n",
      "Requirement already satisfied: sniffio in /Users/exageraldo/.pyenv/versions/3.8.12/envs/analises-mossoro/lib/python3.8/site-packages (from httpx->-r requirements.txt (line 1)) (1.2.0)\n",
      "Requirement already satisfied: cssselect>0.7.9 in /Users/exageraldo/.pyenv/versions/3.8.12/envs/analises-mossoro/lib/python3.8/site-packages (from pyquery->-r requirements.txt (line 3)) (1.1.0)\n",
      "Requirement already satisfied: lxml>=2.1 in /Users/exageraldo/.pyenv/versions/3.8.12/envs/analises-mossoro/lib/python3.8/site-packages (from pyquery->-r requirements.txt (line 3)) (4.6.3)\n",
      "Requirement already satisfied: anyio==3.* in /Users/exageraldo/.pyenv/versions/3.8.12/envs/analises-mossoro/lib/python3.8/site-packages (from httpcore<0.14.0,>=0.13.3->httpx->-r requirements.txt (line 1)) (3.3.4)\n",
      "Requirement already satisfied: h11<0.13,>=0.11 in /Users/exageraldo/.pyenv/versions/3.8.12/envs/analises-mossoro/lib/python3.8/site-packages (from httpcore<0.14.0,>=0.13.3->httpx->-r requirements.txt (line 1)) (0.12.0)\n",
      "Requirement already satisfied: idna>=2.8 in /Users/exageraldo/.pyenv/versions/3.8.12/envs/analises-mossoro/lib/python3.8/site-packages (from anyio==3.*->httpcore<0.14.0,>=0.13.3->httpx->-r requirements.txt (line 1)) (3.3)\n",
      "Note: you may need to restart the kernel to use updated packages.\n"
     ]
    }
   ],
   "source": [
    "pip install -r requirements.txt"
   ]
  },
  {
   "cell_type": "markdown",
   "id": "0e500ea9",
   "metadata": {},
   "source": [
    "Importando o que vamos precisar usar"
   ]
  },
  {
   "cell_type": "code",
   "execution_count": 126,
   "id": "f2cb16b6",
   "metadata": {},
   "outputs": [],
   "source": [
    "import httpx\n",
    "from pyquery import PyQuery\n",
    "from parse import search\n",
    "\n",
    "from typing import List"
   ]
  },
  {
   "cell_type": "code",
   "execution_count": 244,
   "id": "c18512ec",
   "metadata": {},
   "outputs": [],
   "source": [
    "jom_url_base = \"http://jom.prefeiturademossoro.com.br\"\n",
    "jom_edicoes_url_base = f\"{jom_url_base}/todas-as-edicoes-2/\"\n",
    "\n",
    "def acessar_edicoes_jom_por_pagina(pagina: int) -> str:\n",
    "    jom_url_edicoes_paginas = f\"{jom_edicoes_url_base}?_page={pagina}\"\n",
    "    jom_edicoes_response = httpx.get(jom_url_edicoes_paginas)\n",
    "    \n",
    "    return jom_edicoes_response.text"
   ]
  },
  {
   "cell_type": "code",
   "execution_count": 162,
   "id": "3b1d58d0",
   "metadata": {},
   "outputs": [],
   "source": [
    "classe_para_busca_dos_documentos = \".pt-cv-ifield\"\n",
    "\n",
    "def pegar_elementos_de_arquivos_na_pagina(html_pagina: str) -> List:\n",
    "    html_para_busca = PyQuery(html_pagina)\n",
    "    lista_elementos_arquivos = html_para_busca(classe_para_busca_dos_documentos)\n",
    "    \n",
    "    return [item for item in lista_elementos_arquivos.items()]"
   ]
  },
  {
   "cell_type": "code",
   "execution_count": 245,
   "id": "746f6dc9",
   "metadata": {},
   "outputs": [],
   "source": [
    "def pegar_os_links_dos_documentos_por_elementos(elementos: List) -> List:\n",
    "    return [\n",
    "        href for elem in elementos\n",
    "        if (href := elem(\"a:first\").attr(\"href\"))\n",
    "    ]"
   ]
  },
  {
   "cell_type": "code",
   "execution_count": 246,
   "id": "40ca218f",
   "metadata": {},
   "outputs": [],
   "source": [
    "def pegar_todos_os_links_de_documentos() -> List:\n",
    "    todos_os_links = []\n",
    "    numero_da_pagina = 1\n",
    "    while ((resposta := acessar_edicoes_jom_por_pagina(numero_da_pagina)) and\n",
    "           (elementos := pegar_elementos_de_arquivos_na_pagina(resposta)) and \n",
    "           (links := pegar_os_links_dos_documentos_por_elementos(elementos))):\n",
    "        todos_os_links += links\n",
    "        numero_da_pagina += 1\n",
    "\n",
    "    return todos_os_links"
   ]
  },
  {
   "cell_type": "code",
   "execution_count": 247,
   "id": "ff150384",
   "metadata": {},
   "outputs": [],
   "source": [
    "def acessar_pagina_jom_do_arquivo_por_url(url_da_pagina_do_arquivo: str) -> str:\n",
    "    jom_arquivo_response = httpx.get(url_da_pagina_do_arquivo)\n",
    "    \n",
    "    return jom_arquivo_response.text"
   ]
  },
  {
   "cell_type": "code",
   "execution_count": 283,
   "id": "d5f8118d",
   "metadata": {},
   "outputs": [],
   "source": [
    "classe_para_busca_das_informacos = \"div.entry-content:first\"\n",
    "\n",
    "def pegar_informacoes_do_arquivos_na_pagina(html_pagina: str) -> List:\n",
    "    html_para_busca = PyQuery(html_pagina)\n",
    "    lista_elementos_arquivos = html_para_busca(classe_para_busca_das_informacos)\n",
    "    \n",
    "    # Temos que iterar um generator para que possamos pegar o unico elemento\n",
    "    # que queremos da pagina\n",
    "    elemento = [item for item in lista_elementos_arquivos.items()][0]\n",
    "    elemento_em_texto = elemento.text()\n",
    "    \n",
    "    return {\n",
    "        \"link_download\": elemento(\"iframe:first\").attr(\"src\"),\n",
    "        # Algumas paginas possuem a formatação de data errada:\n",
    "        # <dia> de <mes> de <ano>: padrão\n",
    "        # <dia> de <mes> <ano>: http://jom.prefeiturademossoro.com.br/2016/05/18/jom-n-356a/\n",
    "        # <dia> <mes> de <ano>: http://jom.prefeiturademossoro.com.br/2014/02/14/jom-n-240/\n",
    "        \"data\": (search(\"Data: {dia:d} de {mes:S} de {ano:d}\", elemento_em_texto) or \n",
    "                 search(\"Data: {dia:d} de {mes:S} {ano:d}\", elemento_em_texto) or\n",
    "                 search(\"Data: {dia:d} {mes:S} de {ano:d}\", elemento_em_texto)).named,\n",
    "        \"ano\": search(\"Ano: {:S}\", elemento_em_texto)[0],\n",
    "        # Algumas páginas possuem nomes diferentes edição/número:\n",
    "        # Número: padrão\n",
    "        # Edição nº: http://jom.prefeiturademossoro.com.br/2008/05/09/jom-n-o-07a/\n",
    "        \"numero\": (search(\"Número: {:w}\", elemento_em_texto) or\n",
    "                   search(\"Edição nº: {:w}\", elemento_em_texto))[0],\n",
    "        # Algumas paginas possuem o numero de paginas errado:\n",
    "        # N.º de páginas: padrão\n",
    "        # N.º Páginas: http://jom.prefeiturademossoro.com.br/2008/05/09/jom-n-o-07a/\n",
    "        # Páginas: http://jom.prefeiturademossoro.com.br/2008/01/30/jom-n-o-01-ano-1-quarta-feira-30-de-janeiro-de-2008/\n",
    "        # \"XX\": http://jom.prefeiturademossoro.com.br/2019/11/22/jom-n-o-537/\n",
    "        \"qnt_paginas\": (search(\"N.º de páginas: {:d}\", elemento_em_texto) or\n",
    "                        search(\"N.º Páginas: {:d}\", elemento_em_texto) or\n",
    "                        search(\"Páginas: {:d}\", elemento_em_texto) or\n",
    "                        [None])[0],\n",
    "    }"
   ]
  },
  {
   "cell_type": "code",
   "execution_count": 250,
   "id": "db5cc672",
   "metadata": {},
   "outputs": [],
   "source": [
    "lista_url_paginas_documentos = pegar_todos_os_links_de_documentos()"
   ]
  },
  {
   "cell_type": "code",
   "execution_count": 289,
   "id": "a8ea5836",
   "metadata": {},
   "outputs": [
    {
     "name": "stdout",
     "output_type": "stream",
     "text": [
      "1394\n"
     ]
    }
   ],
   "source": [
    "informacoes = []\n",
    "\n",
    "for url_documento in lista_url_paginas_documentos:\n",
    "    pagina_html = acessar_pagina_jom_do_arquivo_por_url(url_documento)\n",
    "    informacoes.append(\n",
    "        pegar_informacoes_do_arquivos_na_pagina(pagina_html)\n",
    "    )\n",
    "\n",
    "print(len(informacoes))"
   ]
  }
 ],
 "metadata": {
  "kernelspec": {
   "display_name": "Python 3 (ipykernel)",
   "language": "python",
   "name": "python3"
  },
  "language_info": {
   "codemirror_mode": {
    "name": "ipython",
    "version": 3
   },
   "file_extension": ".py",
   "mimetype": "text/x-python",
   "name": "python",
   "nbconvert_exporter": "python",
   "pygments_lexer": "ipython3",
   "version": "3.8.12"
  }
 },
 "nbformat": 4,
 "nbformat_minor": 5
}
